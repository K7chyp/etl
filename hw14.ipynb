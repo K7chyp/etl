{
 "cells": [
  {
   "cell_type": "code",
   "execution_count": 7,
   "metadata": {},
   "outputs": [
    {
     "name": "stdout",
     "output_type": "stream",
     "text": [
      "PSI with anomalies: 0.23422282715385404\n",
      "True\n"
     ]
    }
   ],
   "source": [
    "import numpy as np\n",
    "\n",
    "\n",
    "def _psi(expected: np.ndarray, actual: np.ndarray, bucket_type: str = \"bins\", n_bins: int = 10) -> float:\n",
    "    \"\"\"Calculate PSI metric for two arrays.\n",
    "    \n",
    "    Parameters\n",
    "    ----------\n",
    "        expected : list-like\n",
    "            Array of expected values\n",
    "        actual : list-like\n",
    "            Array of actual values\n",
    "        bucket_type : str\n",
    "            Binning strategy. Accepts two options: 'bins' and 'quantiles'. Defaults to 'bins'.\n",
    "            'bins': input arrays are splitted into bins with equal\n",
    "                and fixed steps based on 'expected' array\n",
    "            'quantiles': input arrays are binned according to 'expected' array\n",
    "                with given number of n_bins\n",
    "        n_bins : int\n",
    "            Number of buckets for binning. Defaults to 10.\n",
    "\n",
    "    Returns\n",
    "    -------\n",
    "        A single float number\n",
    "    \"\"\"\n",
    "    breakpoints = np.arange(0, n_bins + 1) / (n_bins) * 100\n",
    "    if bucket_type == \"bins\":\n",
    "        breakpoints = np.histogram(expected, n_bins)[1]\n",
    "    elif bucket_type == \"quantiles\":\n",
    "        breakpoints = np.percentile(expected, breakpoints)\n",
    "\n",
    "    # Calculate frequencies\n",
    "    expected_percents = np.histogram(expected, breakpoints)[0] / len(expected)\n",
    "    actual_percents = np.histogram(actual, breakpoints)[0] / len(actual)\n",
    "    # Clip freaquencies to avoid zero division\n",
    "    expected_percents = np.clip(expected_percents, a_min=0.0001, a_max=None)\n",
    "    actual_percents = np.clip(actual_percents, a_min=0.0001, a_max=None)\n",
    "    # Calculate PSI\n",
    "    psi_value = (expected_percents - actual_percents) * np.log(expected_percents / actual_percents)\n",
    "    psi_value = sum(psi_value)\n",
    "\n",
    "    return psi_value\n",
    "\n",
    "\n",
    "def calculate_psi(\n",
    "        expected: np.ndarray, actual: np.ndarray, bucket_type: str = \"bins\", n_bins: int = 10, axis: int = 0\n",
    ") -> np.ndarray:\n",
    "    if len(expected.shape) == 1:\n",
    "        return _psi(expected, actual, bucket_type, n_bins)\n",
    "    if axis not in (0, 1):\n",
    "        raise ValueError(\"axis must be 0 or 1\")\n",
    "    n_features = expected.shape[1] if axis == 0 else expected.shape[0]\n",
    "    psi_values = np.empty(n_features)\n",
    "    for i in range(n_features):\n",
    "        if axis == 0:\n",
    "            exp_feature = expected[:, i]\n",
    "            act_feature = actual[:, i]\n",
    "        else:\n",
    "            exp_feature = expected[i, :]\n",
    "            act_feature = actual[i, :]\n",
    "        psi_values[i] = _psi(exp_feature, act_feature, bucket_type, n_bins)\n",
    "    return psi_values\n",
    "    \n",
    "np.random.seed(44)\n",
    "SAMPLE_SIZE = 100\n",
    "data_control = -np.random.normal(1, 1, SAMPLE_SIZE)\n",
    "data_pilot = -np.random.normal(1.2, 1, SAMPLE_SIZE)\n",
    "data_pilot_anomalous = np.concatenate([data_pilot, [10.0, 15.0, -5.0, 20.0, -15.0]])\n",
    "psi_anomalous = calculate_psi(data_control, data_pilot_anomalous, bucket_type=\"bins\", n_bins=10, axis=0)\n",
    "print(\"PSI with anomalies:\", psi_anomalous)\n",
    "print(np.isclose(calculate_psi(data_control, data_pilot, bucket_type=\"bins\", n_bins=10, axis=0), 0.2315847887596773))\n"
   ]
  }
 ],
 "metadata": {
  "kernelspec": {
   "display_name": "Python 3",
   "language": "python",
   "name": "python3"
  },
  "language_info": {
   "codemirror_mode": {
    "name": "ipython",
    "version": 3
   },
   "file_extension": ".py",
   "mimetype": "text/x-python",
   "name": "python",
   "nbconvert_exporter": "python",
   "pygments_lexer": "ipython3",
   "version": "3.9.6"
  },
  "orig_nbformat": 4
 },
 "nbformat": 4,
 "nbformat_minor": 2
}
